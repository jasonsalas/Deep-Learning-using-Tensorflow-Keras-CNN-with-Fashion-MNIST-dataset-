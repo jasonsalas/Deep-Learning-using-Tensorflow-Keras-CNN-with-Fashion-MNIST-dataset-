{
 "cells": [
  {
   "cell_type": "markdown",
   "metadata": {},
   "source": [
    "## Fashion MNIST- CNN Model Prediction using Tensorflow,Keras- Part 1\n",
    "\n",
    "### Brief Context\n",
    "\n",
    "Fashion-MNIST is a dataset of Zalando's article images—consisting of a training set of 60,000 examples and a test set of 10,000 examples. Each example is a 28x28 grayscale image, associated with a label from 10 classes. Zalando intends Fashion-MNIST to serve as a direct drop-in replacement for the original MNIST dataset for benchmarking machine learning algorithms. It shares the same image size and structure of training and testing splits.\n",
    "\n",
    "The original MNIST dataset contains a lot of handwritten digits. Members of the AI/ML/Data Science community love this dataset and use it as a benchmark to validate their algorithms. In fact, MNIST is often the first dataset researchers try. \"If it doesn't work on MNIST, it won't work at all\", they said. \"Well, if it does work on MNIST, it may still fail on others.\"\n",
    "\n",
    "Zalando seeks to replace the original MNIST dataset\n",
    "\n",
    "### Data Description\n",
    "\n",
    "Each image is 28 pixels in height and 28 pixels in width, for a total of 784 pixels in total. Each pixel has a single pixel-value associated with it, indicating the lightness or darkness of that pixel, with higher numbers meaning darker. This pixel-value is an integer between 0 and 255. The training and test data sets have 785 columns. The first column consists of the class labels (see above), and represents the article of clothing. The rest of the columns contain the pixel-values of the associated image.\n",
    "\n",
    "To locate a pixel on the image, suppose that we have decomposed x as x = i * 28 + j, where i and j are integers between 0 and 27. The pixel is located on row i and column j of a 28 x 28 matrix.\n",
    "For example, pixel31 indicates the pixel that is in the fourth column from the left, and the second row from the top, as in the ascii-diagram below. \n",
    "\n",
    "### Get the Data\n",
    "\n",
    "You can use direct links to download the dataset.\n",
    "\n",
    "| Name  | Content | Examples | Size | Link | MD5 Checksum|\n",
    "| --- | --- |--- | --- |--- |--- |\n",
    "| `train-images-idx3-ubyte.gz`  | training set images  | 60,000|26 MBytes | [Download](http://fashion-mnist.s3-website.eu-central-1.amazonaws.com/train-images-idx3-ubyte.gz)|`8d4fb7e6c68d591d4c3dfef9ec88bf0d`|\n",
    "| `train-labels-idx1-ubyte.gz`  | training set labels  |60,000|29 KBytes | [Download](http://fashion-mnist.s3-website.eu-central-1.amazonaws.com/train-labels-idx1-ubyte.gz)|`25c81989df183df01b3e8a0aad5dffbe`|\n",
    "| `t10k-images-idx3-ubyte.gz`  | test set images  | 10,000|4.3 MBytes | [Download](http://fashion-mnist.s3-website.eu-central-1.amazonaws.com/t10k-images-idx3-ubyte.gz)|`bef4ecab320f06d8554ea6380940ec79`|\n",
    "| `t10k-labels-idx1-ubyte.gz`  | test set labels  | 10,000| 5.1 KBytes | [Download](http://fashion-mnist.s3-website.eu-central-1.amazonaws.com/t10k-labels-idx1-ubyte.gz)|`bb300cfdad3c16e7a12a480ee83cd310`|\n",
    "\n",
    "Alternatively, you can clone this GitHub repository; the dataset appears under `data/fashion`. This repo also contains some scripts for benchmark and visualization.\n",
    "   \n",
    "```bash\n",
    "git clone git@github.com:zalandoresearch/fashion-mnist.git\n",
    "```\n",
    "\n",
    "#### Labels\n",
    "\n",
    "Each training and test example is assigned to one of the following labels:\n",
    "\n",
    "* 0 T-shirt/top\n",
    "* 1 Trouser\n",
    "* 2 Pullover\n",
    "* 3 Dress\n",
    "* 4 Coat\n",
    "* 5 Sandal\n",
    "* 6 Shirt\n",
    "* 7 Sneaker\n",
    "* 8 Bag\n",
    "* 9 Ankle boot \n",
    "\n",
    "#### TL;DR\n",
    "\n",
    "* Each row is a separate image\n",
    "* Column 1 is the class label.\n",
    "* Remaining columns are pixel numbers (784 total).\n",
    "* Each value is the darkness of the pixel (1 to 255)\n",
    "\n",
    "### Acknowledgements\n",
    "\n",
    "* Original dataset was downloaded from https://github.com/zalandoresearch/fashion-mnist\n",
    "\n",
    "* Dataset was converted to CSV with this script: https://pjreddie.com/projects/mnist-in-csv/"
   ]
  },
  {
   "cell_type": "markdown",
   "metadata": {},
   "source": [
    "### Import Libraries"
   ]
  },
  {
   "cell_type": "code",
   "execution_count": 1,
   "metadata": {},
   "outputs": [
    {
     "name": "stderr",
     "output_type": "stream",
     "text": [
      "Using TensorFlow backend.\n"
     ]
    }
   ],
   "source": [
    "# Import Pandas for data manipulation using dataframes\n",
    "import pandas as pd\n",
    "\n",
    "#Import Numpy for statistical calculations\n",
    "import numpy as np\n",
    "\n",
    "# Import Warnings \n",
    "import warnings\n",
    "warnings.filterwarnings('ignore')\n",
    "\n",
    "# Import matplotlib Library for data visualisation\n",
    "import matplotlib.pyplot as plt\n",
    "\n",
    "#Import train_test_split from scikit library\n",
    "from sklearn.model_selection import train_test_split\n",
    "\n",
    "# Import Keras\n",
    "import keras\n",
    "from keras.models import Sequential\n",
    "from keras.layers import Conv2D,MaxPooling2D,Dense,Flatten,Dropout\n",
    "from keras.optimizers import Adam\n",
    "from keras.callbacks import TensorBoard"
   ]
  },
  {
   "cell_type": "code",
   "execution_count": 2,
   "metadata": {},
   "outputs": [],
   "source": [
    "# Create dataframes for train and test datasets\n",
    "\n",
    "train_df = pd.read_csv('./data/fashion-mnist_train.csv',sep=',')\n",
    "test_df = pd.read_csv('./data/fashion-mnist_test.csv', sep = ',')"
   ]
  },
  {
   "cell_type": "markdown",
   "metadata": {},
   "source": [
    "Let us explore the train and test data"
   ]
  },
  {
   "cell_type": "code",
   "execution_count": 3,
   "metadata": {},
   "outputs": [
    {
     "data": {
      "text/html": [
       "<div>\n",
       "<style scoped>\n",
       "    .dataframe tbody tr th:only-of-type {\n",
       "        vertical-align: middle;\n",
       "    }\n",
       "\n",
       "    .dataframe tbody tr th {\n",
       "        vertical-align: top;\n",
       "    }\n",
       "\n",
       "    .dataframe thead th {\n",
       "        text-align: right;\n",
       "    }\n",
       "</style>\n",
       "<table border=\"1\" class=\"dataframe\">\n",
       "  <thead>\n",
       "    <tr style=\"text-align: right;\">\n",
       "      <th></th>\n",
       "      <th>label</th>\n",
       "      <th>pixel1</th>\n",
       "      <th>pixel2</th>\n",
       "      <th>pixel3</th>\n",
       "      <th>pixel4</th>\n",
       "      <th>pixel5</th>\n",
       "      <th>pixel6</th>\n",
       "      <th>pixel7</th>\n",
       "      <th>pixel8</th>\n",
       "      <th>pixel9</th>\n",
       "      <th>...</th>\n",
       "      <th>pixel775</th>\n",
       "      <th>pixel776</th>\n",
       "      <th>pixel777</th>\n",
       "      <th>pixel778</th>\n",
       "      <th>pixel779</th>\n",
       "      <th>pixel780</th>\n",
       "      <th>pixel781</th>\n",
       "      <th>pixel782</th>\n",
       "      <th>pixel783</th>\n",
       "      <th>pixel784</th>\n",
       "    </tr>\n",
       "  </thead>\n",
       "  <tbody>\n",
       "    <tr>\n",
       "      <th>0</th>\n",
       "      <td>2</td>\n",
       "      <td>0</td>\n",
       "      <td>0</td>\n",
       "      <td>0</td>\n",
       "      <td>0</td>\n",
       "      <td>0</td>\n",
       "      <td>0</td>\n",
       "      <td>0</td>\n",
       "      <td>0</td>\n",
       "      <td>0</td>\n",
       "      <td>...</td>\n",
       "      <td>0</td>\n",
       "      <td>0</td>\n",
       "      <td>0</td>\n",
       "      <td>0</td>\n",
       "      <td>0</td>\n",
       "      <td>0</td>\n",
       "      <td>0</td>\n",
       "      <td>0</td>\n",
       "      <td>0</td>\n",
       "      <td>0</td>\n",
       "    </tr>\n",
       "    <tr>\n",
       "      <th>1</th>\n",
       "      <td>9</td>\n",
       "      <td>0</td>\n",
       "      <td>0</td>\n",
       "      <td>0</td>\n",
       "      <td>0</td>\n",
       "      <td>0</td>\n",
       "      <td>0</td>\n",
       "      <td>0</td>\n",
       "      <td>0</td>\n",
       "      <td>0</td>\n",
       "      <td>...</td>\n",
       "      <td>0</td>\n",
       "      <td>0</td>\n",
       "      <td>0</td>\n",
       "      <td>0</td>\n",
       "      <td>0</td>\n",
       "      <td>0</td>\n",
       "      <td>0</td>\n",
       "      <td>0</td>\n",
       "      <td>0</td>\n",
       "      <td>0</td>\n",
       "    </tr>\n",
       "    <tr>\n",
       "      <th>2</th>\n",
       "      <td>6</td>\n",
       "      <td>0</td>\n",
       "      <td>0</td>\n",
       "      <td>0</td>\n",
       "      <td>0</td>\n",
       "      <td>0</td>\n",
       "      <td>0</td>\n",
       "      <td>0</td>\n",
       "      <td>5</td>\n",
       "      <td>0</td>\n",
       "      <td>...</td>\n",
       "      <td>0</td>\n",
       "      <td>0</td>\n",
       "      <td>0</td>\n",
       "      <td>30</td>\n",
       "      <td>43</td>\n",
       "      <td>0</td>\n",
       "      <td>0</td>\n",
       "      <td>0</td>\n",
       "      <td>0</td>\n",
       "      <td>0</td>\n",
       "    </tr>\n",
       "    <tr>\n",
       "      <th>3</th>\n",
       "      <td>0</td>\n",
       "      <td>0</td>\n",
       "      <td>0</td>\n",
       "      <td>0</td>\n",
       "      <td>1</td>\n",
       "      <td>2</td>\n",
       "      <td>0</td>\n",
       "      <td>0</td>\n",
       "      <td>0</td>\n",
       "      <td>0</td>\n",
       "      <td>...</td>\n",
       "      <td>3</td>\n",
       "      <td>0</td>\n",
       "      <td>0</td>\n",
       "      <td>0</td>\n",
       "      <td>0</td>\n",
       "      <td>1</td>\n",
       "      <td>0</td>\n",
       "      <td>0</td>\n",
       "      <td>0</td>\n",
       "      <td>0</td>\n",
       "    </tr>\n",
       "    <tr>\n",
       "      <th>4</th>\n",
       "      <td>3</td>\n",
       "      <td>0</td>\n",
       "      <td>0</td>\n",
       "      <td>0</td>\n",
       "      <td>0</td>\n",
       "      <td>0</td>\n",
       "      <td>0</td>\n",
       "      <td>0</td>\n",
       "      <td>0</td>\n",
       "      <td>0</td>\n",
       "      <td>...</td>\n",
       "      <td>0</td>\n",
       "      <td>0</td>\n",
       "      <td>0</td>\n",
       "      <td>0</td>\n",
       "      <td>0</td>\n",
       "      <td>0</td>\n",
       "      <td>0</td>\n",
       "      <td>0</td>\n",
       "      <td>0</td>\n",
       "      <td>0</td>\n",
       "    </tr>\n",
       "  </tbody>\n",
       "</table>\n",
       "<p>5 rows × 785 columns</p>\n",
       "</div>"
      ],
      "text/plain": [
       "   label  pixel1  pixel2  pixel3  pixel4  pixel5  pixel6  pixel7  pixel8  \\\n",
       "0      2       0       0       0       0       0       0       0       0   \n",
       "1      9       0       0       0       0       0       0       0       0   \n",
       "2      6       0       0       0       0       0       0       0       5   \n",
       "3      0       0       0       0       1       2       0       0       0   \n",
       "4      3       0       0       0       0       0       0       0       0   \n",
       "\n",
       "   pixel9    ...     pixel775  pixel776  pixel777  pixel778  pixel779  \\\n",
       "0       0    ...            0         0         0         0         0   \n",
       "1       0    ...            0         0         0         0         0   \n",
       "2       0    ...            0         0         0        30        43   \n",
       "3       0    ...            3         0         0         0         0   \n",
       "4       0    ...            0         0         0         0         0   \n",
       "\n",
       "   pixel780  pixel781  pixel782  pixel783  pixel784  \n",
       "0         0         0         0         0         0  \n",
       "1         0         0         0         0         0  \n",
       "2         0         0         0         0         0  \n",
       "3         1         0         0         0         0  \n",
       "4         0         0         0         0         0  \n",
       "\n",
       "[5 rows x 785 columns]"
      ]
     },
     "execution_count": 3,
     "metadata": {},
     "output_type": "execute_result"
    }
   ],
   "source": [
    "train_df.head()"
   ]
  },
  {
   "cell_type": "code",
   "execution_count": 4,
   "metadata": {},
   "outputs": [
    {
     "data": {
      "text/html": [
       "<div>\n",
       "<style scoped>\n",
       "    .dataframe tbody tr th:only-of-type {\n",
       "        vertical-align: middle;\n",
       "    }\n",
       "\n",
       "    .dataframe tbody tr th {\n",
       "        vertical-align: top;\n",
       "    }\n",
       "\n",
       "    .dataframe thead th {\n",
       "        text-align: right;\n",
       "    }\n",
       "</style>\n",
       "<table border=\"1\" class=\"dataframe\">\n",
       "  <thead>\n",
       "    <tr style=\"text-align: right;\">\n",
       "      <th></th>\n",
       "      <th>label</th>\n",
       "      <th>pixel1</th>\n",
       "      <th>pixel2</th>\n",
       "      <th>pixel3</th>\n",
       "      <th>pixel4</th>\n",
       "      <th>pixel5</th>\n",
       "      <th>pixel6</th>\n",
       "      <th>pixel7</th>\n",
       "      <th>pixel8</th>\n",
       "      <th>pixel9</th>\n",
       "      <th>...</th>\n",
       "      <th>pixel775</th>\n",
       "      <th>pixel776</th>\n",
       "      <th>pixel777</th>\n",
       "      <th>pixel778</th>\n",
       "      <th>pixel779</th>\n",
       "      <th>pixel780</th>\n",
       "      <th>pixel781</th>\n",
       "      <th>pixel782</th>\n",
       "      <th>pixel783</th>\n",
       "      <th>pixel784</th>\n",
       "    </tr>\n",
       "  </thead>\n",
       "  <tbody>\n",
       "    <tr>\n",
       "      <th>0</th>\n",
       "      <td>0</td>\n",
       "      <td>0</td>\n",
       "      <td>0</td>\n",
       "      <td>0</td>\n",
       "      <td>0</td>\n",
       "      <td>0</td>\n",
       "      <td>0</td>\n",
       "      <td>0</td>\n",
       "      <td>9</td>\n",
       "      <td>8</td>\n",
       "      <td>...</td>\n",
       "      <td>103</td>\n",
       "      <td>87</td>\n",
       "      <td>56</td>\n",
       "      <td>0</td>\n",
       "      <td>0</td>\n",
       "      <td>0</td>\n",
       "      <td>0</td>\n",
       "      <td>0</td>\n",
       "      <td>0</td>\n",
       "      <td>0</td>\n",
       "    </tr>\n",
       "    <tr>\n",
       "      <th>1</th>\n",
       "      <td>1</td>\n",
       "      <td>0</td>\n",
       "      <td>0</td>\n",
       "      <td>0</td>\n",
       "      <td>0</td>\n",
       "      <td>0</td>\n",
       "      <td>0</td>\n",
       "      <td>0</td>\n",
       "      <td>0</td>\n",
       "      <td>0</td>\n",
       "      <td>...</td>\n",
       "      <td>34</td>\n",
       "      <td>0</td>\n",
       "      <td>0</td>\n",
       "      <td>0</td>\n",
       "      <td>0</td>\n",
       "      <td>0</td>\n",
       "      <td>0</td>\n",
       "      <td>0</td>\n",
       "      <td>0</td>\n",
       "      <td>0</td>\n",
       "    </tr>\n",
       "    <tr>\n",
       "      <th>2</th>\n",
       "      <td>2</td>\n",
       "      <td>0</td>\n",
       "      <td>0</td>\n",
       "      <td>0</td>\n",
       "      <td>0</td>\n",
       "      <td>0</td>\n",
       "      <td>0</td>\n",
       "      <td>14</td>\n",
       "      <td>53</td>\n",
       "      <td>99</td>\n",
       "      <td>...</td>\n",
       "      <td>0</td>\n",
       "      <td>0</td>\n",
       "      <td>0</td>\n",
       "      <td>0</td>\n",
       "      <td>63</td>\n",
       "      <td>53</td>\n",
       "      <td>31</td>\n",
       "      <td>0</td>\n",
       "      <td>0</td>\n",
       "      <td>0</td>\n",
       "    </tr>\n",
       "    <tr>\n",
       "      <th>3</th>\n",
       "      <td>2</td>\n",
       "      <td>0</td>\n",
       "      <td>0</td>\n",
       "      <td>0</td>\n",
       "      <td>0</td>\n",
       "      <td>0</td>\n",
       "      <td>0</td>\n",
       "      <td>0</td>\n",
       "      <td>0</td>\n",
       "      <td>0</td>\n",
       "      <td>...</td>\n",
       "      <td>137</td>\n",
       "      <td>126</td>\n",
       "      <td>140</td>\n",
       "      <td>0</td>\n",
       "      <td>133</td>\n",
       "      <td>224</td>\n",
       "      <td>222</td>\n",
       "      <td>56</td>\n",
       "      <td>0</td>\n",
       "      <td>0</td>\n",
       "    </tr>\n",
       "    <tr>\n",
       "      <th>4</th>\n",
       "      <td>3</td>\n",
       "      <td>0</td>\n",
       "      <td>0</td>\n",
       "      <td>0</td>\n",
       "      <td>0</td>\n",
       "      <td>0</td>\n",
       "      <td>0</td>\n",
       "      <td>0</td>\n",
       "      <td>0</td>\n",
       "      <td>0</td>\n",
       "      <td>...</td>\n",
       "      <td>0</td>\n",
       "      <td>0</td>\n",
       "      <td>0</td>\n",
       "      <td>0</td>\n",
       "      <td>0</td>\n",
       "      <td>0</td>\n",
       "      <td>0</td>\n",
       "      <td>0</td>\n",
       "      <td>0</td>\n",
       "      <td>0</td>\n",
       "    </tr>\n",
       "  </tbody>\n",
       "</table>\n",
       "<p>5 rows × 785 columns</p>\n",
       "</div>"
      ],
      "text/plain": [
       "   label  pixel1  pixel2  pixel3  pixel4  pixel5  pixel6  pixel7  pixel8  \\\n",
       "0      0       0       0       0       0       0       0       0       9   \n",
       "1      1       0       0       0       0       0       0       0       0   \n",
       "2      2       0       0       0       0       0       0      14      53   \n",
       "3      2       0       0       0       0       0       0       0       0   \n",
       "4      3       0       0       0       0       0       0       0       0   \n",
       "\n",
       "   pixel9    ...     pixel775  pixel776  pixel777  pixel778  pixel779  \\\n",
       "0       8    ...          103        87        56         0         0   \n",
       "1       0    ...           34         0         0         0         0   \n",
       "2      99    ...            0         0         0         0        63   \n",
       "3       0    ...          137       126       140         0       133   \n",
       "4       0    ...            0         0         0         0         0   \n",
       "\n",
       "   pixel780  pixel781  pixel782  pixel783  pixel784  \n",
       "0         0         0         0         0         0  \n",
       "1         0         0         0         0         0  \n",
       "2        53        31         0         0         0  \n",
       "3       224       222        56         0         0  \n",
       "4         0         0         0         0         0  \n",
       "\n",
       "[5 rows x 785 columns]"
      ]
     },
     "execution_count": 4,
     "metadata": {},
     "output_type": "execute_result"
    }
   ],
   "source": [
    "test_df.head()"
   ]
  },
  {
   "cell_type": "markdown",
   "metadata": {},
   "source": [
    "Now it is observed that the first column is the label data and because it has 10 classes so it is going to have from 0 to 9.The remaining columns are the actual pixel data.Here as you can see there are about 784 columns that contain pixel data.\n",
    "Here each row is a different image representation in the form pixel data.\n",
    "\n",
    "Now let us split the train data into x and y arrays where x represents the image data and y represents the labels.\n",
    "To do that we need to convert the dataframes into numpy arrays of float32 type which is the acceptable form for tensorflow and keras."
   ]
  },
  {
   "cell_type": "code",
   "execution_count": 5,
   "metadata": {},
   "outputs": [],
   "source": [
    "train_data = np.array(train_df, dtype = 'float32')"
   ]
  },
  {
   "cell_type": "markdown",
   "metadata": {},
   "source": [
    "Similarly let us do the same process for test data"
   ]
  },
  {
   "cell_type": "code",
   "execution_count": 6,
   "metadata": {},
   "outputs": [],
   "source": [
    "test_data = np.array(test_df, dtype='float32')"
   ]
  },
  {
   "cell_type": "markdown",
   "metadata": {},
   "source": [
    "Now let us slice the train arrays into x and y arrays namely x_train,y_train to store all image data and label data respectively.\n",
    "i.e \n",
    "\n",
    "- x_train contains all the rows and all columns except the label column and excluding header info .\n",
    "- y_train contains all the rows and first column and excluding header info .\n",
    "\n",
    "\n",
    "Similarly slice the test arrays into x and y arrays namely x_train,y_train to store all image data and label data respectively.\n",
    "i.e \n",
    "\n",
    "- x_test contains all the rows and all columns except the label column and excluding header info .\n",
    "- y_test contains all the rows and first column and excluding header info .\n",
    "\n",
    "####  Important Note : Since the image data in x_train and x_test is from 0 to 255 ,  we need to rescale this from 0 to 1.To do this we need to divide the x_train and x_test by 255 "
   ]
  },
  {
   "cell_type": "code",
   "execution_count": 7,
   "metadata": {},
   "outputs": [],
   "source": [
    "x_train = train_data[:,1:]/255\n",
    "y_train = train_data[:,0]\n",
    "\n",
    "x_test= test_data[:,1:]/255\n",
    "y_test=test_data[:,0]"
   ]
  },
  {
   "cell_type": "markdown",
   "metadata": {},
   "source": [
    "Now we are gonna split the training data into validation and actual training data for training the model and testing it using the validation set. This is achieved using the train_test_split method of scikit learn library."
   ]
  },
  {
   "cell_type": "code",
   "execution_count": 8,
   "metadata": {},
   "outputs": [],
   "source": [
    "x_train,x_validate,y_train,y_validate = train_test_split(x_train,y_train,test_size = 0.2,random_state = 12345)"
   ]
  },
  {
   "cell_type": "markdown",
   "metadata": {},
   "source": [
    "Now let us visualise the sample image how it looks like in 28 * 28 pixel size"
   ]
  },
  {
   "cell_type": "code",
   "execution_count": 9,
   "metadata": {},
   "outputs": [
    {
     "data": {
      "image/png": "[encoded data removed]",
      "text/plain": [
       "<Figure size 432x288 with 1 Axes>"
      ]
     },
     "metadata": {},
     "output_type": "display_data"
    }
   ],
   "source": [
    "image = x_train[50,:].reshape((28,28))\n",
    "plt.imshow(image)\n",
    "plt.show()"
   ]
  },
  {
   "cell_type": "markdown",
   "metadata": {},
   "source": [
    "As you can observe above the shape of shoe from the sample image\n",
    "\n",
    "### Create the Convolutional Neural Networks (CNN)\n",
    "\n",
    "- #### Define the model\n",
    "- #### Compile the model\n",
    "- #### Fit the model"
   ]
  },
  {
   "cell_type": "markdown",
   "metadata": {},
   "source": [
    "First of all let us define the shape of the image before we define the model\n"
   ]
  },
  {
   "cell_type": "code",
   "execution_count": 10,
   "metadata": {},
   "outputs": [],
   "source": [
    "image_rows = 28\n",
    "image_cols = 28\n",
    "batch_size = 512\n",
    "image_shape = (image_rows,image_cols,1) # Defined the shape of the image as 3d with rows and columns and 1 for the 3d visualisation\n"
   ]
  },
  {
   "cell_type": "markdown",
   "metadata": {},
   "source": [
    "Now we need to do more formating on the x_train,x_test and x_validate sets."
   ]
  },
  {
   "cell_type": "code",
   "execution_count": 11,
   "metadata": {},
   "outputs": [],
   "source": [
    "x_train = x_train.reshape(x_train.shape[0],*image_shape)\n",
    "x_test = x_test.reshape(x_test.shape[0],*image_shape)\n",
    "x_validate = x_validate.reshape(x_validate.shape[0],*image_shape)\n"
   ]
  },
  {
   "cell_type": "markdown",
   "metadata": {},
   "source": [
    "Let us now print the shape of x_train,x_test and x_validate so see how they look like"
   ]
  },
  {
   "cell_type": "code",
   "execution_count": 12,
   "metadata": {},
   "outputs": [
    {
     "name": "stdout",
     "output_type": "stream",
     "text": [
      "x_train shape = (48000, 28, 28, 1)\n",
      "x_test shape = (10000, 28, 28, 1)\n",
      "x_validate shape = (12000, 28, 28, 1)\n"
     ]
    }
   ],
   "source": [
    "print(\"x_train shape = {}\".format(x_train.shape))\n",
    "print(\"x_test shape = {}\".format(x_test.shape))\n",
    "print(\"x_validate shape = {}\".format(x_validate.shape))"
   ]
  },
  {
   "cell_type": "markdown",
   "metadata": {},
   "source": [
    "- #### Define the model "
   ]
  },
  {
   "cell_type": "code",
   "execution_count": 13,
   "metadata": {},
   "outputs": [],
   "source": [
    "cnn_model = Sequential([\n",
    "    Conv2D(filters=32,kernel_size=3,activation='relu',input_shape = image_shape),\n",
    "    MaxPooling2D(pool_size=2) ,# down sampling the output instead of 28*28 it is 14*14\n",
    "    Dropout(0.2),\n",
    "    Flatten(), # flatten out the layers\n",
    "    Dense(32,activation='relu'),\n",
    "    Dense(10,activation = 'softmax')\n",
    "    \n",
    "])"
   ]
  },
  {
   "cell_type": "markdown",
   "metadata": {},
   "source": [
    "- #### Compile the model"
   ]
  },
  {
   "cell_type": "code",
   "execution_count": 14,
   "metadata": {},
   "outputs": [],
   "source": [
    "cnn_model.compile(loss ='sparse_categorical_crossentropy', optimizer=Adam(lr=0.001),metrics =['accuracy'])"
   ]
  },
  {
   "cell_type": "markdown",
   "metadata": {},
   "source": [
    "Now let us now look at how we can specify some callbacks for tensorboard so that we can log some data to a file and look at it using the tensorboard"
   ]
  },
  {
   "cell_type": "code",
   "execution_count": 15,
   "metadata": {},
   "outputs": [],
   "source": [
    "tensorboard = TensorBoard(\n",
    "  log_dir = r'logs\\{}'.format('cnn_1layer'),\n",
    "  write_graph = True,\n",
    "  write_grads = True,\n",
    "  histogram_freq=1,\n",
    "  write_images = True\n",
    ")"
   ]
  },
  {
   "cell_type": "markdown",
   "metadata": {},
   "source": [
    "- #### Fit the model"
   ]
  },
  {
   "cell_type": "code",
   "execution_count": 16,
   "metadata": {},
   "outputs": [
    {
     "name": "stdout",
     "output_type": "stream",
     "text": [
      "Train on 48000 samples, validate on 12000 samples\n",
      "Epoch 1/50\n",
      "48000/48000 [==============================] - 36s 741us/step - loss: 0.8064 - acc: 0.7369 - val_loss: 0.4930 - val_acc: 0.8248\n",
      "Epoch 2/50\n",
      "48000/48000 [==============================] - 35s 730us/step - loss: 0.4478 - acc: 0.8409 - val_loss: 0.4011 - val_acc: 0.8627\n",
      "Epoch 3/50\n",
      "48000/48000 [==============================] - 36s 758us/step - loss: 0.3936 - acc: 0.8619 - val_loss: 0.3687 - val_acc: 0.8718\n",
      "Epoch 4/50\n",
      "48000/48000 [==============================] - 36s 749us/step - loss: 0.3617 - acc: 0.8746 - val_loss: 0.3522 - val_acc: 0.8757\n",
      "Epoch 5/50\n",
      "48000/48000 [==============================] - 38s 782us/step - loss: 0.3419 - acc: 0.8799 - val_loss: 0.3347 - val_acc: 0.8807\n",
      "Epoch 6/50\n",
      "48000/48000 [==============================] - 36s 760us/step - loss: 0.3251 - acc: 0.8862 - val_loss: 0.3272 - val_acc: 0.8862\n",
      "Epoch 7/50\n",
      "48000/48000 [==============================] - 35s 730us/step - loss: 0.3136 - acc: 0.8895 - val_loss: 0.3047 - val_acc: 0.8912\n",
      "Epoch 8/50\n",
      "48000/48000 [==============================] - 40s 828us/step - loss: 0.2988 - acc: 0.8949 - val_loss: 0.3013 - val_acc: 0.8948\n",
      "Epoch 9/50\n",
      "48000/48000 [==============================] - 36s 759us/step - loss: 0.2916 - acc: 0.8985 - val_loss: 0.2861 - val_acc: 0.9000\n",
      "Epoch 10/50\n",
      "48000/48000 [==============================] - 38s 796us/step - loss: 0.2802 - acc: 0.9014 - val_loss: 0.2884 - val_acc: 0.8981\n",
      "Epoch 11/50\n",
      "48000/48000 [==============================] - 38s 801us/step - loss: 0.2704 - acc: 0.9050 - val_loss: 0.2770 - val_acc: 0.9009\n",
      "Epoch 12/50\n",
      "48000/48000 [==============================] - 37s 772us/step - loss: 0.2633 - acc: 0.9064 - val_loss: 0.2757 - val_acc: 0.9018\n",
      "Epoch 13/50\n",
      "48000/48000 [==============================] - 37s 773us/step - loss: 0.2583 - acc: 0.9085 - val_loss: 0.2688 - val_acc: 0.9040\n",
      "Epoch 14/50\n",
      "48000/48000 [==============================] - 38s 797us/step - loss: 0.2524 - acc: 0.9100 - val_loss: 0.2660 - val_acc: 0.9069\n",
      "Epoch 15/50\n",
      "48000/48000 [==============================] - 39s 803us/step - loss: 0.2465 - acc: 0.9120 - val_loss: 0.2603 - val_acc: 0.9087\n",
      "Epoch 16/50\n",
      "48000/48000 [==============================] - 36s 747us/step - loss: 0.2416 - acc: 0.9148 - val_loss: 0.2598 - val_acc: 0.9077\n",
      "Epoch 17/50\n",
      "48000/48000 [==============================] - 36s 742us/step - loss: 0.2366 - acc: 0.9157 - val_loss: 0.2566 - val_acc: 0.9086\n",
      "Epoch 18/50\n",
      "48000/48000 [==============================] - 38s 801us/step - loss: 0.2313 - acc: 0.9179 - val_loss: 0.2571 - val_acc: 0.9070\n",
      "Epoch 19/50\n",
      "48000/48000 [==============================] - 37s 780us/step - loss: 0.2255 - acc: 0.9193 - val_loss: 0.2549 - val_acc: 0.9089\n",
      "Epoch 20/50\n",
      "48000/48000 [==============================] - 40s 835us/step - loss: 0.2222 - acc: 0.9205 - val_loss: 0.2464 - val_acc: 0.9105\n",
      "Epoch 21/50\n",
      "48000/48000 [==============================] - 37s 765us/step - loss: 0.2190 - acc: 0.9204 - val_loss: 0.2450 - val_acc: 0.9129\n",
      "Epoch 22/50\n",
      "48000/48000 [==============================] - 36s 748us/step - loss: 0.2129 - acc: 0.9237 - val_loss: 0.2441 - val_acc: 0.9142\n",
      "Epoch 23/50\n",
      "48000/48000 [==============================] - 39s 806us/step - loss: 0.2094 - acc: 0.9249 - val_loss: 0.2446 - val_acc: 0.9136\n",
      "Epoch 24/50\n",
      "48000/48000 [==============================] - 37s 767us/step - loss: 0.2048 - acc: 0.9265 - val_loss: 0.2466 - val_acc: 0.9144\n",
      "Epoch 25/50\n",
      "48000/48000 [==============================] - 35s 735us/step - loss: 0.2006 - acc: 0.9288 - val_loss: 0.2415 - val_acc: 0.9140\n",
      "Epoch 26/50\n",
      "48000/48000 [==============================] - 39s 810us/step - loss: 0.1993 - acc: 0.9282 - val_loss: 0.2458 - val_acc: 0.9126\n",
      "Epoch 27/50\n",
      "48000/48000 [==============================] - 36s 760us/step - loss: 0.1962 - acc: 0.9284 - val_loss: 0.2399 - val_acc: 0.9146\n",
      "Epoch 28/50\n",
      "48000/48000 [==============================] - 36s 755us/step - loss: 0.1895 - acc: 0.9315 - val_loss: 0.2388 - val_acc: 0.9154\n",
      "Epoch 29/50\n",
      "48000/48000 [==============================] - 37s 761us/step - loss: 0.1891 - acc: 0.9310 - val_loss: 0.2437 - val_acc: 0.9138\n",
      "Epoch 30/50\n",
      "48000/48000 [==============================] - 37s 773us/step - loss: 0.1878 - acc: 0.9326 - val_loss: 0.2388 - val_acc: 0.9145\n",
      "Epoch 31/50\n",
      "48000/48000 [==============================] - 36s 741us/step - loss: 0.1826 - acc: 0.9354 - val_loss: 0.2451 - val_acc: 0.9129\n",
      "Epoch 32/50\n",
      "48000/48000 [==============================] - 36s 742us/step - loss: 0.1806 - acc: 0.9347 - val_loss: 0.2389 - val_acc: 0.9155\n",
      "Epoch 33/50\n",
      "48000/48000 [==============================] - 36s 749us/step - loss: 0.1791 - acc: 0.9347 - val_loss: 0.2441 - val_acc: 0.9157\n",
      "Epoch 34/50\n",
      "48000/48000 [==============================] - 35s 732us/step - loss: 0.1752 - acc: 0.9375 - val_loss: 0.2401 - val_acc: 0.9152\n",
      "Epoch 35/50\n",
      "48000/48000 [==============================] - 36s 740us/step - loss: 0.1705 - acc: 0.9388 - val_loss: 0.2384 - val_acc: 0.9183\n",
      "Epoch 36/50\n",
      "48000/48000 [==============================] - 35s 739us/step - loss: 0.1691 - acc: 0.9375 - val_loss: 0.2341 - val_acc: 0.9172\n",
      "Epoch 37/50\n",
      "48000/48000 [==============================] - 36s 745us/step - loss: 0.1643 - acc: 0.9408 - val_loss: 0.2396 - val_acc: 0.9155\n",
      "Epoch 38/50\n",
      "48000/48000 [==============================] - 36s 743us/step - loss: 0.1654 - acc: 0.9394 - val_loss: 0.2585 - val_acc: 0.9121\n",
      "Epoch 39/50\n",
      "48000/48000 [==============================] - 35s 736us/step - loss: 0.1610 - acc: 0.9414 - val_loss: 0.2354 - val_acc: 0.9200\n",
      "Epoch 40/50\n",
      "48000/48000 [==============================] - 35s 738us/step - loss: 0.1580 - acc: 0.9423 - val_loss: 0.2369 - val_acc: 0.9191\n",
      "Epoch 41/50\n",
      "48000/48000 [==============================] - 36s 743us/step - loss: 0.1569 - acc: 0.9435 - val_loss: 0.2348 - val_acc: 0.9182\n",
      "Epoch 42/50\n",
      "48000/48000 [==============================] - 35s 737us/step - loss: 0.1556 - acc: 0.9428 - val_loss: 0.2402 - val_acc: 0.9164\n",
      "Epoch 43/50\n",
      "48000/48000 [==============================] - 36s 749us/step - loss: 0.1504 - acc: 0.9457 - val_loss: 0.2356 - val_acc: 0.9199\n",
      "Epoch 44/50\n",
      "48000/48000 [==============================] - 36s 741us/step - loss: 0.1492 - acc: 0.9454 - val_loss: 0.2350 - val_acc: 0.9205\n",
      "Epoch 45/50\n",
      "48000/48000 [==============================] - 36s 744us/step - loss: 0.1470 - acc: 0.9470 - val_loss: 0.2460 - val_acc: 0.9166\n",
      "Epoch 46/50\n",
      "48000/48000 [==============================] - 36s 740us/step - loss: 0.1476 - acc: 0.9464 - val_loss: 0.2437 - val_acc: 0.9173\n",
      "Epoch 47/50\n",
      "48000/48000 [==============================] - 35s 724us/step - loss: 0.1424 - acc: 0.9484 - val_loss: 0.2490 - val_acc: 0.9156\n",
      "Epoch 48/50\n",
      "48000/48000 [==============================] - 34s 710us/step - loss: 0.1417 - acc: 0.9484 - val_loss: 0.2367 - val_acc: 0.9207\n",
      "Epoch 49/50\n",
      "48000/48000 [==============================] - 34s 701us/step - loss: 0.1415 - acc: 0.9484 - val_loss: 0.2396 - val_acc: 0.9173\n",
      "Epoch 50/50\n",
      "48000/48000 [==============================] - 34s 707us/step - loss: 0.1389 - acc: 0.9487 - val_loss: 0.2529 - val_acc: 0.9140\n"
     ]
    }
   ],
   "source": [
    "history = cnn_model.fit(\n",
    "    x_train,\n",
    "    y_train,\n",
    "    batch_size=batch_size,\n",
    "    epochs=50,\n",
    "    verbose=1,\n",
    "    validation_data=(x_validate,y_validate),\n",
    "    callbacks = [tensorboard]\n",
    ")"
   ]
  },
  {
   "cell_type": "markdown",
   "metadata": {},
   "source": [
    "- #### Evaluate /Score the model"
   ]
  },
  {
   "cell_type": "code",
   "execution_count": 17,
   "metadata": {},
   "outputs": [
    {
     "name": "stdout",
     "output_type": "stream",
     "text": [
      "Test Loss : 0.2549\n",
      "Test Accuracy : 0.9152\n"
     ]
    }
   ],
   "source": [
    "score = cnn_model.evaluate(x_test,y_test,verbose=0)\n",
    "print('Test Loss : {:.4f}'.format(score[0]))\n",
    "print('Test Accuracy : {:.4f}'.format(score[1]))\n"
   ]
  },
  {
   "cell_type": "markdown",
   "metadata": {},
   "source": [
    "- #### Result\n",
    "\n",
    "Let's plot training and validation accuracy as well as loss."
   ]
  },
  {
   "cell_type": "code",
   "execution_count": 18,
   "metadata": {},
   "outputs": [
    {
     "data": {
      "image/png": "[encoded data removed]",
      "text/plain": [
       "<Figure size 432x288 with 1 Axes>"
      ]
     },
     "metadata": {},
     "output_type": "display_data"
    },
    {
     "data": {
      "image/png": "[encoded data removed]",
      "text/plain": [
       "<Figure size 432x288 with 1 Axes>"
      ]
     },
     "metadata": {},
     "output_type": "display_data"
    }
   ],
   "source": [
    "import matplotlib.pyplot as plt\n",
    "%matplotlib inline\n",
    "accuracy = history.history['acc']\n",
    "val_accuracy = history.history['val_acc']\n",
    "loss = history.history['loss']\n",
    "val_loss = history.history['val_loss']\n",
    "epochs = range(len(accuracy))\n",
    "plt.plot(epochs, accuracy, 'bo', label='Training Accuracy')\n",
    "plt.plot(epochs, val_accuracy, 'b', label='Validation Accuracy')\n",
    "plt.title('Training and Validation accuracy')\n",
    "plt.legend()\n",
    "plt.figure()\n",
    "plt.plot(epochs, loss, 'bo', label='Training Loss')\n",
    "plt.plot(epochs, val_loss, 'b', label='Validation Loss')\n",
    "plt.title('Training and validation loss')\n",
    "plt.legend()\n",
    "plt.show()"
   ]
  },
  {
   "cell_type": "markdown",
   "metadata": {},
   "source": [
    "### Classification Report\n",
    "We can summarize the performance of our classifier as follows"
   ]
  },
  {
   "cell_type": "code",
   "execution_count": 20,
   "metadata": {},
   "outputs": [],
   "source": [
    "#Get the predictions for the test data\n",
    "predicted_classes = cnn_model.predict_classes(x_test)\n",
    "\n",
    "#Get the indices to be plotted\n",
    "y_true = test_df.iloc[:, 0]\n",
    "correct = np.nonzero(predicted_classes==y_true)[0]\n",
    "incorrect = np.nonzero(predicted_classes!=y_true)[0]"
   ]
  },
  {
   "cell_type": "code",
   "execution_count": 21,
   "metadata": {},
   "outputs": [
    {
     "name": "stdout",
     "output_type": "stream",
     "text": [
      "             precision    recall  f1-score   support\n",
      "\n",
      "    Class 0       0.90      0.83      0.86      1000\n",
      "    Class 1       0.99      0.98      0.99      1000\n",
      "    Class 2       0.90      0.84      0.87      1000\n",
      "    Class 3       0.91      0.95      0.93      1000\n",
      "    Class 4       0.91      0.84      0.87      1000\n",
      "    Class 5       0.99      0.97      0.98      1000\n",
      "    Class 6       0.71      0.85      0.77      1000\n",
      "    Class 7       0.94      0.97      0.96      1000\n",
      "    Class 8       0.98      0.97      0.98      1000\n",
      "    Class 9       0.96      0.96      0.96      1000\n",
      "\n",
      "avg / total       0.92      0.92      0.92     10000\n",
      "\n"
     ]
    }
   ],
   "source": [
    "num_classes =10\n",
    "from sklearn.metrics import classification_report\n",
    "target_names = [\"Class {}\".format(i) for i in range(num_classes)]\n",
    "print(classification_report(y_true, predicted_classes, target_names=target_names))"
   ]
  },
  {
   "cell_type": "markdown",
   "metadata": {},
   "source": [
    "It's apparent that our classifier is underperforming for class 6 in terms of both precision and recall. For class 2, classifier is slightly lacking precision whereas it is slightly lacking recall (i.e. missed) for class 4.\n",
    "\n",
    "Perhaps we would gain more insight after visualizing the correct and incorrect predictions.\n",
    "\n",
    "Here is a subset of correctly predicted classes."
   ]
  },
  {
   "cell_type": "code",
   "execution_count": 22,
   "metadata": {},
   "outputs": [
    {
     "data": {
      "image/png": "[encoded data removed]",
      "text/plain": [
       "<Figure size 432x288 with 9 Axes>"
      ]
     },
     "metadata": {},
     "output_type": "display_data"
    }
   ],
   "source": [
    "for i, correct in enumerate(correct[:9]):\n",
    "    plt.subplot(3,3,i+1)\n",
    "    plt.imshow(x_test[correct].reshape(28,28), cmap='gray', interpolation='none')\n",
    "    plt.title(\"Predicted {}, Class {}\".format(predicted_classes[correct], y_true[correct]))\n",
    "    plt.tight_layout()"
   ]
  },
  {
   "cell_type": "markdown",
   "metadata": {},
   "source": [
    "And here is a subset of incorrectly predicted classes."
   ]
  },
  {
   "cell_type": "code",
   "execution_count": 23,
   "metadata": {},
   "outputs": [
    {
     "data": {
      "image/png": "[encoded data removed]",
      "text/plain": [
       "<Figure size 432x288 with 9 Axes>"
      ]
     },
     "metadata": {},
     "output_type": "display_data"
    }
   ],
   "source": [
    "for i, incorrect in enumerate(incorrect[0:9]):\n",
    "    plt.subplot(3,3,i+1)\n",
    "    plt.imshow(x_test[incorrect].reshape(28,28), cmap='gray', interpolation='none')\n",
    "    plt.title(\"Predicted {}, Class {}\".format(predicted_classes[incorrect], y_true[incorrect]))\n",
    "    plt.tight_layout()"
   ]
  },
  {
   "cell_type": "markdown",
   "metadata": {},
   "source": [
    "It looks like diversity of the similar patterns present on multiple classes effect the performance of the classifier although CNN is a robust architechture. A jacket, a shirt, and a long-sleeve blouse has similar patterns: long sleeves (or not!), buttons (or not!), and so on."
   ]
  },
  {
   "cell_type": "code",
   "execution_count": null,
   "metadata": {},
   "outputs": [],
   "source": []
  }
 ],
 "metadata": {
  "kernelspec": {
   "display_name": "Python 3",
   "language": "python",
   "name": "python3"
  },
  "language_info": {
   "codemirror_mode": {
    "name": "ipython",
    "version": 3
   },
   "file_extension": ".py",
   "mimetype": "text/x-python",
   "name": "python",
   "nbconvert_exporter": "python",
   "pygments_lexer": "ipython3",
   "version": "3.6.5rc1"
  }
 },
 "nbformat": 4,
 "nbformat_minor": 2
}
